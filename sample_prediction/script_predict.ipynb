{
 "cells": [
  {
   "cell_type": "code",
   "execution_count": 43,
   "id": "45b7b07a-523d-4c1d-9591-98c5c0342833",
   "metadata": {},
   "outputs": [],
   "source": [
    "from tensorflow.keras.models import load_model"
   ]
  },
  {
   "cell_type": "code",
   "execution_count": 44,
   "id": "b46d1c8b-d635-46d8-8f71-4fb0f130e73e",
   "metadata": {},
   "outputs": [],
   "source": [
    "model = load_model('model.h5')"
   ]
  },
  {
   "cell_type": "code",
   "execution_count": 45,
   "id": "767f81fd-5281-416e-ba39-85d714521146",
   "metadata": {},
   "outputs": [],
   "source": [
    "import pandas as pd\n",
    "import numpy as np"
   ]
  },
  {
   "cell_type": "code",
   "execution_count": 46,
   "id": "b7af832f-f2b6-47ca-90bb-f760439ef634",
   "metadata": {},
   "outputs": [],
   "source": [
    "df = pd.read_csv('data.csv')"
   ]
  },
  {
   "cell_type": "code",
   "execution_count": 47,
   "id": "e60ce9af-10dd-4f37-83c7-6c0fcd25ef12",
   "metadata": {},
   "outputs": [],
   "source": [
    "X = df.values"
   ]
  },
  {
   "cell_type": "code",
   "execution_count": 48,
   "id": "c30ba257-490a-42f0-88fb-fa2ae888081d",
   "metadata": {},
   "outputs": [],
   "source": [
    "from sklearn.preprocessing import MinMaxScaler"
   ]
  },
  {
   "cell_type": "code",
   "execution_count": 49,
   "id": "98aa3e49-bcc9-4af2-9678-c5dd41cb056b",
   "metadata": {},
   "outputs": [],
   "source": [
    "scaler = MinMaxScaler()\n",
    "X_pred = scaler.fit_transform(X)"
   ]
  },
  {
   "cell_type": "code",
   "execution_count": 50,
   "id": "935e128c-6c5f-4b69-8956-c9211daab148",
   "metadata": {},
   "outputs": [
    {
     "name": "stdout",
     "output_type": "stream",
     "text": [
      "11780/11780 [==============================] - 19s 2ms/step\n"
     ]
    }
   ],
   "source": [
    "predict_x = model.predict(X_pred)\n",
    "y_pred = np.round(predict_x).astype(int)"
   ]
  },
  {
   "cell_type": "code",
   "execution_count": 51,
   "id": "2ac0350a-16ce-476b-aac9-e74754325768",
   "metadata": {},
   "outputs": [],
   "source": [
    "df['Fully_Pay'] = y_pred"
   ]
  },
  {
   "cell_type": "code",
   "execution_count": 52,
   "id": "bdaf5430-d5f9-474d-aa9a-f89e9861007e",
   "metadata": {},
   "outputs": [],
   "source": [
    "df['Fully_Pay'] = df['Fully_Pay'].map({1 : 'Fully Pay', 0: 'Charge-Off'})"
   ]
  },
  {
   "cell_type": "code",
   "execution_count": 53,
   "id": "c8c812fe-16d7-478f-9a04-14d9e893e898",
   "metadata": {},
   "outputs": [],
   "source": [
    "df_main = pd.read_csv('raw_data.csv')"
   ]
  },
  {
   "cell_type": "code",
   "execution_count": 54,
   "id": "7c59c11e-ced3-488f-ab49-285ee07b2a8b",
   "metadata": {},
   "outputs": [],
   "source": [
    "df_main['Prediction'] = df['Fully_Pay']"
   ]
  },
  {
   "cell_type": "code",
   "execution_count": 55,
   "id": "6a107bfa-eb3b-4385-930c-5a2c5d30de9b",
   "metadata": {},
   "outputs": [],
   "source": [
    "df_main.to_csv('predicted_data.csv', index = False)"
   ]
  }
 ],
 "metadata": {
  "kernelspec": {
   "display_name": "Python 3 (ipykernel)",
   "language": "python",
   "name": "python3"
  },
  "language_info": {
   "codemirror_mode": {
    "name": "ipython",
    "version": 3
   },
   "file_extension": ".py",
   "mimetype": "text/x-python",
   "name": "python",
   "nbconvert_exporter": "python",
   "pygments_lexer": "ipython3",
   "version": "3.10.9"
  }
 },
 "nbformat": 4,
 "nbformat_minor": 5
}
